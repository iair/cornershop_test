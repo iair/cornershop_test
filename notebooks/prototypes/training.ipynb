{
 "cells": [
  {
   "cell_type": "markdown",
   "id": "73e12417-11eb-49c4-8b77-ac250b92059f",
   "metadata": {
    "jp-MarkdownHeadingCollapsed": true,
    "tags": []
   },
   "source": [
    "### Declare libraries"
   ]
  },
  {
   "cell_type": "code",
   "execution_count": 1,
   "id": "12907040-50b8-492f-b2a7-3e326e417d32",
   "metadata": {},
   "outputs": [],
   "source": [
    "import warnings\n",
    "warnings.filterwarnings('ignore')\n",
    "# evaluate an xgboost regression model on the housing dataset\n",
    "import numpy as np\n",
    "import pandas as pd\n",
    "from sklearn.ensemble import GradientBoostingRegressor\n",
    "from sklearn.metrics import mean_absolute_error, mean_squared_error\n",
    "from sklearn.model_selection import GridSearchCV, train_test_split, cross_val_score,cross_validate,KFold\n",
    "from xgboost import XGBRegressor\n",
    "# libraries for visualization\n",
    "import matplotlib.pyplot as plt\n",
    "%matplotlib inline\n",
    "import seaborn as sns\n",
    "sns.set_theme(style=\"white\")\n",
    "import os\n",
    "# library to save the money\n",
    "import pickle"
   ]
  },
  {
   "cell_type": "markdown",
   "id": "9fd07ac4-a6bf-4854-b4f6-387a02556cc0",
   "metadata": {
    "tags": []
   },
   "source": [
    "### Set folder location of the data and load data "
   ]
  },
  {
   "cell_type": "markdown",
   "id": "3562fd60-6ea1-4214-8625-10423cdcc30b",
   "metadata": {
    "jp-MarkdownHeadingCollapsed": true,
    "tags": []
   },
   "source": [
    "### Declare functions and select the variables that i am going to use"
   ]
  },
  {
   "cell_type": "code",
   "execution_count": 2,
   "id": "c012d5f3-27d0-4aec-868d-7145f17f0873",
   "metadata": {},
   "outputs": [],
   "source": [
    "# función creada por mi para traer los NA's\n",
    "def get_na(df):\n",
    "    qsna=df.shape[0]-df.isnull().sum(axis=0)\n",
    "    qna=df.isnull().sum(axis=0)\n",
    "    ppna=round(100*(df.isnull().sum(axis=0)/df.shape[0]),2)\n",
    "    aux= {'datos sin NAs en q': qsna, 'Na en q': qna ,'Na en %': ppna}\n",
    "    na=pd.DataFrame(data=aux)\n",
    "    return na.sort_values(by='Na en %',ascending=False)"
   ]
  },
  {
   "cell_type": "code",
   "execution_count": 3,
   "id": "af03fb8e-e47d-4e06-b2b8-60b7cf7470a0",
   "metadata": {},
   "outputs": [
    {
     "data": {
      "text/html": [
       "<div>\n",
       "<style scoped>\n",
       "    .dataframe tbody tr th:only-of-type {\n",
       "        vertical-align: middle;\n",
       "    }\n",
       "\n",
       "    .dataframe tbody tr th {\n",
       "        vertical-align: top;\n",
       "    }\n",
       "\n",
       "    .dataframe thead th {\n",
       "        text-align: right;\n",
       "    }\n",
       "</style>\n",
       "<table border=\"1\" class=\"dataframe\">\n",
       "  <thead>\n",
       "    <tr style=\"text-align: right;\">\n",
       "      <th></th>\n",
       "      <th>datos sin NAs en q</th>\n",
       "      <th>Na en q</th>\n",
       "      <th>Na en %</th>\n",
       "    </tr>\n",
       "  </thead>\n",
       "  <tbody>\n",
       "    <tr>\n",
       "      <th>on_demand</th>\n",
       "      <td>7983</td>\n",
       "      <td>0</td>\n",
       "      <td>0.0</td>\n",
       "    </tr>\n",
       "    <tr>\n",
       "      <th>is_weighted</th>\n",
       "      <td>7983</td>\n",
       "      <td>0</td>\n",
       "      <td>0.0</td>\n",
       "    </tr>\n",
       "    <tr>\n",
       "      <th>UN</th>\n",
       "      <td>7983</td>\n",
       "      <td>0</td>\n",
       "      <td>0.0</td>\n",
       "    </tr>\n",
       "    <tr>\n",
       "      <th>picking_speed</th>\n",
       "      <td>7983</td>\n",
       "      <td>0</td>\n",
       "      <td>0.0</td>\n",
       "    </tr>\n",
       "    <tr>\n",
       "      <th>order_stores_distance</th>\n",
       "      <td>7983</td>\n",
       "      <td>0</td>\n",
       "      <td>0.0</td>\n",
       "    </tr>\n",
       "    <tr>\n",
       "      <th>seniority_ADVANCED</th>\n",
       "      <td>7983</td>\n",
       "      <td>0</td>\n",
       "      <td>0.0</td>\n",
       "    </tr>\n",
       "    <tr>\n",
       "      <th>seniority_BEGINNER</th>\n",
       "      <td>7983</td>\n",
       "      <td>0</td>\n",
       "      <td>0.0</td>\n",
       "    </tr>\n",
       "    <tr>\n",
       "      <th>seniority_INTERMEDIATE</th>\n",
       "      <td>7983</td>\n",
       "      <td>0</td>\n",
       "      <td>0.0</td>\n",
       "    </tr>\n",
       "    <tr>\n",
       "      <th>seniority_REVIEW</th>\n",
       "      <td>7983</td>\n",
       "      <td>0</td>\n",
       "      <td>0.0</td>\n",
       "    </tr>\n",
       "  </tbody>\n",
       "</table>\n",
       "</div>"
      ],
      "text/plain": [
       "                        datos sin NAs en q  Na en q  Na en %\n",
       "on_demand                             7983        0      0.0\n",
       "is_weighted                           7983        0      0.0\n",
       "UN                                    7983        0      0.0\n",
       "picking_speed                         7983        0      0.0\n",
       "order_stores_distance                 7983        0      0.0\n",
       "seniority_ADVANCED                    7983        0      0.0\n",
       "seniority_BEGINNER                    7983        0      0.0\n",
       "seniority_INTERMEDIATE                7983        0      0.0\n",
       "seniority_REVIEW                      7983        0      0.0"
      ]
     },
     "execution_count": 3,
     "metadata": {},
     "output_type": "execute_result"
    }
   ],
   "source": [
    "# you need to change it if you are going to run it on your local machine, writing the folder where the raw data of the challenge is\n",
    "os.chdir('/Users/iairlinker/Documents/repos/cornershop_test/data')\n",
    "# Loading pre-processed dataset\n",
    "model_data = pd.read_csv('interim/model_data.csv', sep=';')\n",
    "model_data['is_weighted'] = model_data.KG.apply(lambda x: 1 if x>0 else 0)\n",
    "model_data['on_demand'] = model_data.on_demand.apply(lambda x: 1 if x>0 else 0)\n",
    "col_names = ['on_demand', 'is_weighted','UN','picking_speed', \n",
    "             'seniority','order_stores_distance',\n",
    "             'total_minutes',\n",
    "            ]                    \n",
    "X = model_data[col_names]\n",
    "X.dropna(inplace=True)\n",
    "y = X.total_minutes\n",
    "X.drop('total_minutes', axis=1, inplace=True)\n",
    "X = pd.get_dummies(X)\n",
    "get_na(X)"
   ]
  },
  {
   "cell_type": "markdown",
   "id": "0e25a6e5-d6d8-4882-9ab3-0619ac5e5a45",
   "metadata": {},
   "source": [
    "# tune parameters\n",
    "\n",
    "<https://machinelearningmastery.com/tune-number-size-decision-trees-xgboost-python/>\n",
    "\n",
    "<https://machinelearningmastery.com/hyperparameter-optimization-with-random-search-and-grid-search/>\n",
    "\n",
    "why i did not standarize my variables? <https://stats.stackexchange.com/questions/485677/does-xgboost-require-standarized-data>"
   ]
  },
  {
   "cell_type": "markdown",
   "id": "e2158115-de62-46cf-9e8f-9c6d031bd63f",
   "metadata": {
    "tags": []
   },
   "source": [
    "## XGBOOST"
   ]
  },
  {
   "cell_type": "code",
   "execution_count": 4,
   "id": "0aa41ff1-743a-4156-8544-f9be990c776a",
   "metadata": {},
   "outputs": [
    {
     "name": "stdout",
     "output_type": "stream",
     "text": [
      "Fitting 10 folds for each of 36 candidates, totalling 360 fits\n"
     ]
    }
   ],
   "source": [
    "reg = XGBRegressor(\n",
    "    tree_method=\"hist\",\n",
    "    eval_metric=mean_absolute_error,\n",
    ")\n",
    "# grid search\n",
    "n_estimators = [50, 100, 150]\n",
    "max_depth = [2, 3, 4]\n",
    "learning_rate = [0.05,0.1,0.3,0.5]\n",
    "param_grid = dict(max_depth=max_depth, n_estimators=n_estimators, learning_rate= learning_rate)\n",
    "grid_search = GridSearchCV(reg, param_grid, scoring=\"neg_mean_absolute_error\", cv= 10, n_jobs=2, verbose=1)\n",
    "grid_result = grid_search.fit(X.values, y.values)"
   ]
  },
  {
   "cell_type": "code",
   "execution_count": 5,
   "id": "f3c32501-c667-4dc1-ab88-166f5e4a58cc",
   "metadata": {},
   "outputs": [
    {
     "name": "stdout",
     "output_type": "stream",
     "text": [
      "Best: -19.142377 using {'learning_rate': 0.1, 'max_depth': 2, 'n_estimators': 150}\n",
      "-20.103519 (0.548848) with: {'learning_rate': 0.05, 'max_depth': 2, 'n_estimators': 50}\n",
      "-19.510893 (0.438792) with: {'learning_rate': 0.05, 'max_depth': 2, 'n_estimators': 100}\n",
      "-19.314052 (0.403802) with: {'learning_rate': 0.05, 'max_depth': 2, 'n_estimators': 150}\n",
      "-19.437073 (0.524148) with: {'learning_rate': 0.05, 'max_depth': 3, 'n_estimators': 50}\n",
      "-19.212836 (0.399715) with: {'learning_rate': 0.05, 'max_depth': 3, 'n_estimators': 100}\n",
      "-19.186340 (0.383755) with: {'learning_rate': 0.05, 'max_depth': 3, 'n_estimators': 150}\n",
      "-19.190137 (0.493718) with: {'learning_rate': 0.05, 'max_depth': 4, 'n_estimators': 50}\n",
      "-19.158483 (0.395470) with: {'learning_rate': 0.05, 'max_depth': 4, 'n_estimators': 100}\n",
      "-19.197121 (0.398713) with: {'learning_rate': 0.05, 'max_depth': 4, 'n_estimators': 150}\n",
      "-19.511900 (0.441466) with: {'learning_rate': 0.1, 'max_depth': 2, 'n_estimators': 50}\n",
      "-19.210627 (0.423364) with: {'learning_rate': 0.1, 'max_depth': 2, 'n_estimators': 100}\n",
      "-19.142377 (0.408566) with: {'learning_rate': 0.1, 'max_depth': 2, 'n_estimators': 150}\n",
      "-19.244292 (0.407359) with: {'learning_rate': 0.1, 'max_depth': 3, 'n_estimators': 50}\n",
      "-19.188144 (0.395899) with: {'learning_rate': 0.1, 'max_depth': 3, 'n_estimators': 100}\n",
      "-19.193522 (0.391720) with: {'learning_rate': 0.1, 'max_depth': 3, 'n_estimators': 150}\n",
      "-19.174584 (0.413441) with: {'learning_rate': 0.1, 'max_depth': 4, 'n_estimators': 50}\n",
      "-19.227458 (0.398020) with: {'learning_rate': 0.1, 'max_depth': 4, 'n_estimators': 100}\n",
      "-19.247341 (0.382555) with: {'learning_rate': 0.1, 'max_depth': 4, 'n_estimators': 150}\n",
      "-19.172312 (0.374591) with: {'learning_rate': 0.3, 'max_depth': 2, 'n_estimators': 50}\n",
      "-19.181948 (0.355622) with: {'learning_rate': 0.3, 'max_depth': 2, 'n_estimators': 100}\n",
      "-19.215484 (0.348445) with: {'learning_rate': 0.3, 'max_depth': 2, 'n_estimators': 150}\n",
      "-19.186558 (0.364734) with: {'learning_rate': 0.3, 'max_depth': 3, 'n_estimators': 50}\n",
      "-19.287734 (0.360813) with: {'learning_rate': 0.3, 'max_depth': 3, 'n_estimators': 100}\n",
      "-19.386520 (0.406478) with: {'learning_rate': 0.3, 'max_depth': 3, 'n_estimators': 150}\n",
      "-19.342179 (0.427177) with: {'learning_rate': 0.3, 'max_depth': 4, 'n_estimators': 50}\n",
      "-19.527723 (0.443408) with: {'learning_rate': 0.3, 'max_depth': 4, 'n_estimators': 100}\n",
      "-19.741143 (0.433698) with: {'learning_rate': 0.3, 'max_depth': 4, 'n_estimators': 150}\n",
      "-19.286176 (0.352647) with: {'learning_rate': 0.5, 'max_depth': 2, 'n_estimators': 50}\n",
      "-19.342786 (0.386321) with: {'learning_rate': 0.5, 'max_depth': 2, 'n_estimators': 100}\n",
      "-19.389100 (0.370104) with: {'learning_rate': 0.5, 'max_depth': 2, 'n_estimators': 150}\n",
      "-19.497039 (0.452053) with: {'learning_rate': 0.5, 'max_depth': 3, 'n_estimators': 50}\n",
      "-19.610954 (0.512867) with: {'learning_rate': 0.5, 'max_depth': 3, 'n_estimators': 100}\n",
      "-19.756370 (0.521911) with: {'learning_rate': 0.5, 'max_depth': 3, 'n_estimators': 150}\n",
      "-19.707085 (0.441645) with: {'learning_rate': 0.5, 'max_depth': 4, 'n_estimators': 50}\n",
      "-20.099379 (0.403808) with: {'learning_rate': 0.5, 'max_depth': 4, 'n_estimators': 100}\n",
      "-20.441847 (0.332479) with: {'learning_rate': 0.5, 'max_depth': 4, 'n_estimators': 150}\n"
     ]
    }
   ],
   "source": [
    "# summarize results\n",
    "print(\"Best: %f using %s\" % (grid_result.best_score_, grid_result.best_params_))\n",
    "means = grid_result.cv_results_['mean_test_score']\n",
    "stds = grid_result.cv_results_['std_test_score']\n",
    "params = grid_result.cv_results_['params']\n",
    "for mean, stdev, param in zip(means, stds, params):\n",
    "\tprint(\"%f (%f) with: %r\" % (mean, stdev, param))"
   ]
  },
  {
   "cell_type": "code",
   "execution_count": 6,
   "id": "bbb24df6-f9f4-4f00-a9f8-0b075fb71c69",
   "metadata": {},
   "outputs": [
    {
     "name": "stdout",
     "output_type": "stream",
     "text": [
      "-19.14237682487105\n"
     ]
    },
    {
     "data": {
      "image/png": "[encoded data removed]",
      "text/plain": [
       "<Figure size 432x288 with 1 Axes>"
      ]
     },
     "metadata": {},
     "output_type": "display_data"
    }
   ],
   "source": [
    "# plot results\n",
    "print(max(means))\n",
    "scores = np.array(means).reshape(4, 9)\n",
    "for i, value in enumerate(learning_rate):\n",
    "    plt.plot( -scores[i], label='learning_rate: ' + str(value))\n",
    "plt.legend()\n",
    "plt.xlabel('iterations')\n",
    "plt.ylabel('median absolute error')\n",
    "plt.savefig('iterations vs median absolute error')"
   ]
  },
  {
   "cell_type": "code",
   "execution_count": 7,
   "id": "a1e11f09-f28c-4905-96d8-a9560f15f3c3",
   "metadata": {},
   "outputs": [
    {
     "name": "stdout",
     "output_type": "stream",
     "text": [
      "-19.14237682487105\n"
     ]
    },
    {
     "data": {
      "image/png": "[encoded data removed]",
      "text/plain": [
       "<Figure size 432x288 with 1 Axes>"
      ]
     },
     "metadata": {},
     "output_type": "display_data"
    }
   ],
   "source": [
    "# plot results\n",
    "print(max(means))\n",
    "scores = np.array(means).reshape(3, 12)\n",
    "for i, value in enumerate(n_estimators):\n",
    "    plt.plot( -scores[i], label='n estimators: ' + str(value))\n",
    "plt.legend()\n",
    "plt.xlabel('iterations')\n",
    "plt.ylabel('median absolute error')\n",
    "plt.savefig('iterations vs median absolute error')"
   ]
  },
  {
   "cell_type": "code",
   "execution_count": 8,
   "id": "cd68414d-ee60-4bf3-b6d9-ddec4009d6dd",
   "metadata": {},
   "outputs": [
    {
     "name": "stdout",
     "output_type": "stream",
     "text": [
      "-19.14237682487105\n"
     ]
    },
    {
     "data": {
      "image/png": "[encoded data removed]",
      "text/plain": [
       "<Figure size 432x288 with 1 Axes>"
      ]
     },
     "metadata": {},
     "output_type": "display_data"
    }
   ],
   "source": [
    "# plot results\n",
    "print(max(means))\n",
    "scores = np.array(means).reshape(3, 12)\n",
    "for i, value in enumerate(max_depth):\n",
    "    plt.plot( -scores[i], label='max depth: ' + str(value))\n",
    "plt.legend()\n",
    "plt.xlabel('iterations')\n",
    "plt.ylabel('median absolute error')\n",
    "plt.savefig('iterations vs median absolute error')"
   ]
  },
  {
   "cell_type": "code",
   "execution_count": 10,
   "id": "7bec25ae-50cb-4da2-9afc-d0969e399b87",
   "metadata": {
    "tags": []
   },
   "outputs": [
    {
     "data": {
      "text/plain": [
       "{'tree_method': 'hist',\n",
       " 'eval_metric': <function sklearn.metrics._regression.mean_absolute_error(y_true, y_pred, *, sample_weight=None, multioutput='uniform_average')>,\n",
       " 'learning_rate': 0.1,\n",
       " 'max_depth': 2,\n",
       " 'n_estimators': 150}"
      ]
     },
     "execution_count": 10,
     "metadata": {},
     "output_type": "execute_result"
    }
   ],
   "source": [
    "params = {\n",
    "    'tree_method' : \"hist\",\n",
    "    'eval_metric' : mean_absolute_error\n",
    "}\n",
    "params.update(grid_result.best_params_)\n",
    "params"
   ]
  },
  {
   "cell_type": "code",
   "execution_count": 11,
   "id": "8db7f68d-6ac1-4c72-a1d0-3a3d404425d1",
   "metadata": {},
   "outputs": [
    {
     "data": {
      "text/plain": [
       "XGBRegressor(base_score=0.5, booster='gbtree', colsample_bylevel=1,\n",
       "             colsample_bynode=1, colsample_bytree=1, enable_categorical=False,\n",
       "             eval_metric=<function mean_absolute_error at 0x7fc4fe4c5820>,\n",
       "             gamma=0, gpu_id=-1, importance_type=None,\n",
       "             interaction_constraints='', learning_rate=0.1, max_delta_step=0,\n",
       "             max_depth=2, min_child_weight=1, missing=nan,\n",
       "             monotone_constraints='()', n_estimators=150, n_jobs=8,\n",
       "             num_parallel_tree=1, predictor='auto', random_state=0, reg_alpha=0,\n",
       "             reg_lambda=1, scale_pos_weight=1, subsample=1, tree_method='hist',\n",
       "             validate_parameters=1, verbosity=None)"
      ]
     },
     "execution_count": 11,
     "metadata": {},
     "output_type": "execute_result"
    }
   ],
   "source": [
    "model = XGBRegressor(**params)\n",
    "model.fit(X,y)"
   ]
  },
  {
   "cell_type": "code",
   "execution_count": 12,
   "id": "97d2dad1-d0a1-4dad-8a1f-893747fe330a",
   "metadata": {},
   "outputs": [],
   "source": [
    "file_name = \"processed/xgb_reg.pkl\"\n",
    "# saven the model\n",
    "pickle.dump(model, open(file_name, \"wb\"))"
   ]
  },
  {
   "cell_type": "markdown",
   "id": "17222b4d-3d8e-4f24-aabc-da4421ef39a5",
   "metadata": {},
   "source": [
    "## Quantile Gradient Boosting"
   ]
  },
  {
   "cell_type": "code",
   "execution_count": 13,
   "id": "e891ad5f-ab3f-438d-a931-658c1e3d3862",
   "metadata": {},
   "outputs": [],
   "source": [
    "gbr_params = dict(\n",
    "    learning_rate=0.1,\n",
    "    n_estimators=150,\n",
    "    max_depth=2,\n",
    "    min_samples_leaf=0.01,\n",
    "    min_samples_split=0.01,\n",
    ")"
   ]
  },
  {
   "cell_type": "code",
   "execution_count": 14,
   "id": "a990d8bb-6c9f-4401-8c24-e54e05592b9a",
   "metadata": {},
   "outputs": [
    {
     "name": "stdout",
     "output_type": "stream",
     "text": [
      "Fitting 10 folds for each of 36 candidates, totalling 360 fits\n"
     ]
    }
   ],
   "source": [
    "reg = GradientBoostingRegressor(loss=\"quantile\", alpha=0.5,    \n",
    "                                min_samples_leaf=0.01,\n",
    "                                min_samples_split=0.01)\n",
    "# grid search\n",
    "n_estimators = [50, 100, 150]\n",
    "max_depth = [2, 3, 4]\n",
    "learning_rate = [0.05,0.1,0.3,0.5]\n",
    "param_grid = dict(max_depth=max_depth, n_estimators=n_estimators, learning_rate= learning_rate)\n",
    "grid_search = GridSearchCV(reg, param_grid, scoring=\"neg_mean_absolute_error\", cv= 10, n_jobs=2, verbose=1)\n",
    "grid_result = grid_search.fit(X.values, y.values)"
   ]
  },
  {
   "cell_type": "code",
   "execution_count": 16,
   "id": "506e1ed5-9a22-4f29-ba92-a8c844a9fc0b",
   "metadata": {},
   "outputs": [
    {
     "name": "stdout",
     "output_type": "stream",
     "text": [
      "Best: -18.774295 using {'learning_rate': 0.1, 'max_depth': 2, 'n_estimators': 150}\n",
      "-20.079968 (0.482603) with: {'learning_rate': 0.05, 'max_depth': 2, 'n_estimators': 50}\n",
      "-19.165490 (0.472731) with: {'learning_rate': 0.05, 'max_depth': 2, 'n_estimators': 100}\n",
      "-18.910055 (0.462776) with: {'learning_rate': 0.05, 'max_depth': 2, 'n_estimators': 150}\n",
      "-19.415687 (0.495864) with: {'learning_rate': 0.05, 'max_depth': 3, 'n_estimators': 50}\n",
      "-18.885620 (0.488981) with: {'learning_rate': 0.05, 'max_depth': 3, 'n_estimators': 100}\n",
      "-18.802050 (0.482721) with: {'learning_rate': 0.05, 'max_depth': 3, 'n_estimators': 150}\n",
      "-19.153149 (0.484198) with: {'learning_rate': 0.05, 'max_depth': 4, 'n_estimators': 50}\n",
      "-18.832744 (0.458562) with: {'learning_rate': 0.05, 'max_depth': 4, 'n_estimators': 100}\n",
      "-18.804371 (0.451520) with: {'learning_rate': 0.05, 'max_depth': 4, 'n_estimators': 150}\n",
      "-19.146026 (0.464133) with: {'learning_rate': 0.1, 'max_depth': 2, 'n_estimators': 50}\n",
      "-18.822618 (0.449966) with: {'learning_rate': 0.1, 'max_depth': 2, 'n_estimators': 100}\n",
      "-18.774295 (0.448469) with: {'learning_rate': 0.1, 'max_depth': 2, 'n_estimators': 150}\n",
      "-18.888447 (0.483401) with: {'learning_rate': 0.1, 'max_depth': 3, 'n_estimators': 50}\n",
      "-18.785608 (0.456664) with: {'learning_rate': 0.1, 'max_depth': 3, 'n_estimators': 100}\n",
      "-18.781135 (0.443912) with: {'learning_rate': 0.1, 'max_depth': 3, 'n_estimators': 150}\n",
      "-18.855015 (0.458949) with: {'learning_rate': 0.1, 'max_depth': 4, 'n_estimators': 50}\n",
      "-18.815243 (0.440121) with: {'learning_rate': 0.1, 'max_depth': 4, 'n_estimators': 100}\n",
      "-18.824432 (0.417724) with: {'learning_rate': 0.1, 'max_depth': 4, 'n_estimators': 150}\n",
      "-18.820899 (0.483964) with: {'learning_rate': 0.3, 'max_depth': 2, 'n_estimators': 50}\n",
      "-18.809172 (0.462715) with: {'learning_rate': 0.3, 'max_depth': 2, 'n_estimators': 100}\n",
      "-18.818318 (0.450283) with: {'learning_rate': 0.3, 'max_depth': 2, 'n_estimators': 150}\n",
      "-18.848353 (0.450613) with: {'learning_rate': 0.3, 'max_depth': 3, 'n_estimators': 50}\n",
      "-18.893359 (0.406470) with: {'learning_rate': 0.3, 'max_depth': 3, 'n_estimators': 100}\n",
      "-18.896211 (0.409943) with: {'learning_rate': 0.3, 'max_depth': 3, 'n_estimators': 150}\n",
      "-18.864157 (0.447078) with: {'learning_rate': 0.3, 'max_depth': 4, 'n_estimators': 50}\n",
      "-18.926824 (0.399443) with: {'learning_rate': 0.3, 'max_depth': 4, 'n_estimators': 100}\n",
      "-18.950573 (0.394208) with: {'learning_rate': 0.3, 'max_depth': 4, 'n_estimators': 150}\n",
      "-18.895707 (0.446772) with: {'learning_rate': 0.5, 'max_depth': 2, 'n_estimators': 50}\n",
      "-18.884613 (0.423149) with: {'learning_rate': 0.5, 'max_depth': 2, 'n_estimators': 100}\n",
      "-18.901104 (0.421091) with: {'learning_rate': 0.5, 'max_depth': 2, 'n_estimators': 150}\n",
      "-18.976759 (0.439547) with: {'learning_rate': 0.5, 'max_depth': 3, 'n_estimators': 50}\n",
      "-19.002320 (0.429177) with: {'learning_rate': 0.5, 'max_depth': 3, 'n_estimators': 100}\n",
      "-19.050584 (0.434642) with: {'learning_rate': 0.5, 'max_depth': 3, 'n_estimators': 150}\n",
      "-19.117822 (0.426110) with: {'learning_rate': 0.5, 'max_depth': 4, 'n_estimators': 50}\n",
      "-19.141761 (0.433472) with: {'learning_rate': 0.5, 'max_depth': 4, 'n_estimators': 100}\n",
      "-19.210419 (0.450328) with: {'learning_rate': 0.5, 'max_depth': 4, 'n_estimators': 150}\n"
     ]
    }
   ],
   "source": [
    "# summarize results\n",
    "print(\"Best: %f using %s\" % (grid_result.best_score_, grid_result.best_params_))\n",
    "means = grid_result.cv_results_['mean_test_score']\n",
    "stds = grid_result.cv_results_['std_test_score']\n",
    "params = grid_result.cv_results_['params']\n",
    "for mean, stdev, param in zip(means, stds, params):\n",
    "\tprint(\"%f (%f) with: %r\" % (mean, stdev, param))"
   ]
  },
  {
   "cell_type": "code",
   "execution_count": 17,
   "id": "55149891-fb0e-404c-8c8a-a5a1b1a6022a",
   "metadata": {},
   "outputs": [
    {
     "data": {
      "text/plain": [
       "{'loss': 'quantile',\n",
       " 'alpha': 0.5,\n",
       " 'min_samples_leaf': 0.01,\n",
       " 'min_samples_split': 0.01,\n",
       " 'learning_rate': 0.1,\n",
       " 'max_depth': 2,\n",
       " 'n_estimators': 150}"
      ]
     },
     "execution_count": 17,
     "metadata": {},
     "output_type": "execute_result"
    }
   ],
   "source": [
    "params = {\n",
    "    'loss' : \"quantile\", \n",
    "    'alpha' : 0.5,\n",
    "    'min_samples_leaf' : 0.01,\n",
    "    'min_samples_split' : 0.01\n",
    "}\n",
    "params.update(grid_result.best_params_)\n",
    "params"
   ]
  },
  {
   "cell_type": "code",
   "execution_count": 18,
   "id": "af2e46a7-7729-4108-acef-18207aeef12d",
   "metadata": {},
   "outputs": [
    {
     "data": {
      "text/plain": [
       "GradientBoostingRegressor(alpha=0.5, loss='quantile', max_depth=2,\n",
       "                          min_samples_leaf=0.01, min_samples_split=0.01,\n",
       "                          n_estimators=150)"
      ]
     },
     "execution_count": 18,
     "metadata": {},
     "output_type": "execute_result"
    }
   ],
   "source": [
    "model = GradientBoostingRegressor(**params)\n",
    "model.fit(X,y)"
   ]
  },
  {
   "cell_type": "code",
   "execution_count": 19,
   "id": "5b5701cc-3975-4b07-ac75-fdd02af5b590",
   "metadata": {},
   "outputs": [],
   "source": [
    "file_name = \"processed/gbq_reg.pkl\"\n",
    "# saven the model\n",
    "pickle.dump(model, open(file_name, \"wb\"))"
   ]
  }
 ],
 "metadata": {
  "kernelspec": {
   "display_name": "Python 3 (ipykernel)",
   "language": "python",
   "name": "python3"
  },
  "language_info": {
   "codemirror_mode": {
    "name": "ipython",
    "version": 3
   },
   "file_extension": ".py",
   "mimetype": "text/x-python",
   "name": "python",
   "nbconvert_exporter": "python",
   "pygments_lexer": "ipython3",
   "version": "3.8.12"
  }
 },
 "nbformat": 4,
 "nbformat_minor": 5
}
