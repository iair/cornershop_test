{
 "cells": [
  {
   "cell_type": "markdown",
   "id": "73e12417-11eb-49c4-8b77-ac250b92059f",
   "metadata": {
    "tags": []
   },
   "source": [
    "### Declare libraries"
   ]
  },
  {
   "cell_type": "code",
   "execution_count": 1,
   "id": "12907040-50b8-492f-b2a7-3e326e417d32",
   "metadata": {},
   "outputs": [],
   "source": [
    "import warnings\n",
    "warnings.filterwarnings('ignore')\n",
    "# evaluate an xgboost regression model on the housing dataset\n",
    "import numpy as np\n",
    "import pandas as pd\n",
    "from sklearn.metrics import mean_absolute_error, mean_squared_error\n",
    "from sklearn.model_selection import GridSearchCV, train_test_split, cross_val_score,cross_validate,KFold\n",
    "from xgboost import XGBRegressor\n",
    "# libraries for visualization\n",
    "import matplotlib.pyplot as plt\n",
    "%matplotlib inline\n",
    "import seaborn as sns\n",
    "sns.set_theme(style=\"white\")\n",
    "import os"
   ]
  },
  {
   "cell_type": "markdown",
   "id": "9fd07ac4-a6bf-4854-b4f6-387a02556cc0",
   "metadata": {
    "tags": []
   },
   "source": [
    "### Set folder location of the data and load data "
   ]
  },
  {
   "cell_type": "markdown",
   "id": "3562fd60-6ea1-4214-8625-10423cdcc30b",
   "metadata": {
    "jp-MarkdownHeadingCollapsed": true,
    "tags": []
   },
   "source": [
    "### Declare functions and select the variables that i am going to use"
   ]
  },
  {
   "cell_type": "code",
   "execution_count": 2,
   "id": "c012d5f3-27d0-4aec-868d-7145f17f0873",
   "metadata": {},
   "outputs": [],
   "source": [
    "# función creada por mi para traer los NA's\n",
    "def get_na(df):\n",
    "    qsna=df.shape[0]-df.isnull().sum(axis=0)\n",
    "    qna=df.isnull().sum(axis=0)\n",
    "    ppna=round(100*(df.isnull().sum(axis=0)/df.shape[0]),2)\n",
    "    aux= {'datos sin NAs en q': qsna, 'Na en q': qna ,'Na en %': ppna}\n",
    "    na=pd.DataFrame(data=aux)\n",
    "    return na.sort_values(by='Na en %',ascending=False)"
   ]
  },
  {
   "cell_type": "code",
   "execution_count": 3,
   "id": "af03fb8e-e47d-4e06-b2b8-60b7cf7470a0",
   "metadata": {},
   "outputs": [
    {
     "data": {
      "text/html": [
       "<div>\n",
       "<style scoped>\n",
       "    .dataframe tbody tr th:only-of-type {\n",
       "        vertical-align: middle;\n",
       "    }\n",
       "\n",
       "    .dataframe tbody tr th {\n",
       "        vertical-align: top;\n",
       "    }\n",
       "\n",
       "    .dataframe thead th {\n",
       "        text-align: right;\n",
       "    }\n",
       "</style>\n",
       "<table border=\"1\" class=\"dataframe\">\n",
       "  <thead>\n",
       "    <tr style=\"text-align: right;\">\n",
       "      <th></th>\n",
       "      <th>datos sin NAs en q</th>\n",
       "      <th>Na en q</th>\n",
       "      <th>Na en %</th>\n",
       "    </tr>\n",
       "  </thead>\n",
       "  <tbody>\n",
       "    <tr>\n",
       "      <th>on_demand</th>\n",
       "      <td>7983</td>\n",
       "      <td>0</td>\n",
       "      <td>0.0</td>\n",
       "    </tr>\n",
       "    <tr>\n",
       "      <th>store_district_Recoleta</th>\n",
       "      <td>7983</td>\n",
       "      <td>0</td>\n",
       "      <td>0.0</td>\n",
       "    </tr>\n",
       "    <tr>\n",
       "      <th>store_district_Macul</th>\n",
       "      <td>7983</td>\n",
       "      <td>0</td>\n",
       "      <td>0.0</td>\n",
       "    </tr>\n",
       "    <tr>\n",
       "      <th>store_district_Maipú</th>\n",
       "      <td>7983</td>\n",
       "      <td>0</td>\n",
       "      <td>0.0</td>\n",
       "    </tr>\n",
       "    <tr>\n",
       "      <th>store_district_Peñalolén</th>\n",
       "      <td>7983</td>\n",
       "      <td>0</td>\n",
       "      <td>0.0</td>\n",
       "    </tr>\n",
       "    <tr>\n",
       "      <th>store_district_Providencia</th>\n",
       "      <td>7983</td>\n",
       "      <td>0</td>\n",
       "      <td>0.0</td>\n",
       "    </tr>\n",
       "    <tr>\n",
       "      <th>store_district_Provincia de Santiago</th>\n",
       "      <td>7983</td>\n",
       "      <td>0</td>\n",
       "      <td>0.0</td>\n",
       "    </tr>\n",
       "    <tr>\n",
       "      <th>store_district_Pudahuel</th>\n",
       "      <td>7983</td>\n",
       "      <td>0</td>\n",
       "      <td>0.0</td>\n",
       "    </tr>\n",
       "    <tr>\n",
       "      <th>store_district_Puente Alto</th>\n",
       "      <td>7983</td>\n",
       "      <td>0</td>\n",
       "      <td>0.0</td>\n",
       "    </tr>\n",
       "    <tr>\n",
       "      <th>store_district_Quilicura</th>\n",
       "      <td>7983</td>\n",
       "      <td>0</td>\n",
       "      <td>0.0</td>\n",
       "    </tr>\n",
       "    <tr>\n",
       "      <th>store_district_San Bernardo</th>\n",
       "      <td>7983</td>\n",
       "      <td>0</td>\n",
       "      <td>0.0</td>\n",
       "    </tr>\n",
       "    <tr>\n",
       "      <th>store_district_Las Condes</th>\n",
       "      <td>7983</td>\n",
       "      <td>0</td>\n",
       "      <td>0.0</td>\n",
       "    </tr>\n",
       "    <tr>\n",
       "      <th>store_district_San Joaquín</th>\n",
       "      <td>7983</td>\n",
       "      <td>0</td>\n",
       "      <td>0.0</td>\n",
       "    </tr>\n",
       "    <tr>\n",
       "      <th>store_district_San Miguel</th>\n",
       "      <td>7983</td>\n",
       "      <td>0</td>\n",
       "      <td>0.0</td>\n",
       "    </tr>\n",
       "    <tr>\n",
       "      <th>store_district_San Pedro de la Paz</th>\n",
       "      <td>7983</td>\n",
       "      <td>0</td>\n",
       "      <td>0.0</td>\n",
       "    </tr>\n",
       "    <tr>\n",
       "      <th>store_district_Santiago</th>\n",
       "      <td>7983</td>\n",
       "      <td>0</td>\n",
       "      <td>0.0</td>\n",
       "    </tr>\n",
       "    <tr>\n",
       "      <th>store_district_Talcahuano</th>\n",
       "      <td>7983</td>\n",
       "      <td>0</td>\n",
       "      <td>0.0</td>\n",
       "    </tr>\n",
       "    <tr>\n",
       "      <th>store_district_Valparaíso</th>\n",
       "      <td>7983</td>\n",
       "      <td>0</td>\n",
       "      <td>0.0</td>\n",
       "    </tr>\n",
       "    <tr>\n",
       "      <th>store_district_Vitacura</th>\n",
       "      <td>7983</td>\n",
       "      <td>0</td>\n",
       "      <td>0.0</td>\n",
       "    </tr>\n",
       "    <tr>\n",
       "      <th>store_district_Viña del Mar</th>\n",
       "      <td>7983</td>\n",
       "      <td>0</td>\n",
       "      <td>0.0</td>\n",
       "    </tr>\n",
       "    <tr>\n",
       "      <th>store_district_Lo Barnechea</th>\n",
       "      <td>7983</td>\n",
       "      <td>0</td>\n",
       "      <td>0.0</td>\n",
       "    </tr>\n",
       "    <tr>\n",
       "      <th>store_district_La Serena</th>\n",
       "      <td>7983</td>\n",
       "      <td>0</td>\n",
       "      <td>0.0</td>\n",
       "    </tr>\n",
       "    <tr>\n",
       "      <th>is_weighted</th>\n",
       "      <td>7983</td>\n",
       "      <td>0</td>\n",
       "      <td>0.0</td>\n",
       "    </tr>\n",
       "    <tr>\n",
       "      <th>store_district_Chiguayante</th>\n",
       "      <td>7983</td>\n",
       "      <td>0</td>\n",
       "      <td>0.0</td>\n",
       "    </tr>\n",
       "    <tr>\n",
       "      <th>UN</th>\n",
       "      <td>7983</td>\n",
       "      <td>0</td>\n",
       "      <td>0.0</td>\n",
       "    </tr>\n",
       "    <tr>\n",
       "      <th>picking_speed</th>\n",
       "      <td>7983</td>\n",
       "      <td>0</td>\n",
       "      <td>0.0</td>\n",
       "    </tr>\n",
       "    <tr>\n",
       "      <th>order_stores_distance</th>\n",
       "      <td>7983</td>\n",
       "      <td>0</td>\n",
       "      <td>0.0</td>\n",
       "    </tr>\n",
       "    <tr>\n",
       "      <th>seniority_ADVANCED</th>\n",
       "      <td>7983</td>\n",
       "      <td>0</td>\n",
       "      <td>0.0</td>\n",
       "    </tr>\n",
       "    <tr>\n",
       "      <th>seniority_BEGINNER</th>\n",
       "      <td>7983</td>\n",
       "      <td>0</td>\n",
       "      <td>0.0</td>\n",
       "    </tr>\n",
       "    <tr>\n",
       "      <th>seniority_INTERMEDIATE</th>\n",
       "      <td>7983</td>\n",
       "      <td>0</td>\n",
       "      <td>0.0</td>\n",
       "    </tr>\n",
       "    <tr>\n",
       "      <th>seniority_REVIEW</th>\n",
       "      <td>7983</td>\n",
       "      <td>0</td>\n",
       "      <td>0.0</td>\n",
       "    </tr>\n",
       "    <tr>\n",
       "      <th>store_district_Cerrillos</th>\n",
       "      <td>7983</td>\n",
       "      <td>0</td>\n",
       "      <td>0.0</td>\n",
       "    </tr>\n",
       "    <tr>\n",
       "      <th>store_district_Colina</th>\n",
       "      <td>7983</td>\n",
       "      <td>0</td>\n",
       "      <td>0.0</td>\n",
       "    </tr>\n",
       "    <tr>\n",
       "      <th>store_district_La Reina</th>\n",
       "      <td>7983</td>\n",
       "      <td>0</td>\n",
       "      <td>0.0</td>\n",
       "    </tr>\n",
       "    <tr>\n",
       "      <th>store_district_Concepción</th>\n",
       "      <td>7983</td>\n",
       "      <td>0</td>\n",
       "      <td>0.0</td>\n",
       "    </tr>\n",
       "    <tr>\n",
       "      <th>store_district_Concón</th>\n",
       "      <td>7983</td>\n",
       "      <td>0</td>\n",
       "      <td>0.0</td>\n",
       "    </tr>\n",
       "    <tr>\n",
       "      <th>store_district_Coquimbo</th>\n",
       "      <td>7983</td>\n",
       "      <td>0</td>\n",
       "      <td>0.0</td>\n",
       "    </tr>\n",
       "    <tr>\n",
       "      <th>store_district_Estación Central</th>\n",
       "      <td>7983</td>\n",
       "      <td>0</td>\n",
       "      <td>0.0</td>\n",
       "    </tr>\n",
       "    <tr>\n",
       "      <th>store_district_Hualpén</th>\n",
       "      <td>7983</td>\n",
       "      <td>0</td>\n",
       "      <td>0.0</td>\n",
       "    </tr>\n",
       "    <tr>\n",
       "      <th>store_district_Huechuraba</th>\n",
       "      <td>7983</td>\n",
       "      <td>0</td>\n",
       "      <td>0.0</td>\n",
       "    </tr>\n",
       "    <tr>\n",
       "      <th>store_district_Independencia</th>\n",
       "      <td>7983</td>\n",
       "      <td>0</td>\n",
       "      <td>0.0</td>\n",
       "    </tr>\n",
       "    <tr>\n",
       "      <th>store_district_La Florida</th>\n",
       "      <td>7983</td>\n",
       "      <td>0</td>\n",
       "      <td>0.0</td>\n",
       "    </tr>\n",
       "    <tr>\n",
       "      <th>store_district_Ñuñoa</th>\n",
       "      <td>7983</td>\n",
       "      <td>0</td>\n",
       "      <td>0.0</td>\n",
       "    </tr>\n",
       "  </tbody>\n",
       "</table>\n",
       "</div>"
      ],
      "text/plain": [
       "                                      datos sin NAs en q  Na en q  Na en %\n",
       "on_demand                                           7983        0      0.0\n",
       "store_district_Recoleta                             7983        0      0.0\n",
       "store_district_Macul                                7983        0      0.0\n",
       "store_district_Maipú                                7983        0      0.0\n",
       "store_district_Peñalolén                            7983        0      0.0\n",
       "store_district_Providencia                          7983        0      0.0\n",
       "store_district_Provincia de Santiago                7983        0      0.0\n",
       "store_district_Pudahuel                             7983        0      0.0\n",
       "store_district_Puente Alto                          7983        0      0.0\n",
       "store_district_Quilicura                            7983        0      0.0\n",
       "store_district_San Bernardo                         7983        0      0.0\n",
       "store_district_Las Condes                           7983        0      0.0\n",
       "store_district_San Joaquín                          7983        0      0.0\n",
       "store_district_San Miguel                           7983        0      0.0\n",
       "store_district_San Pedro de la Paz                  7983        0      0.0\n",
       "store_district_Santiago                             7983        0      0.0\n",
       "store_district_Talcahuano                           7983        0      0.0\n",
       "store_district_Valparaíso                           7983        0      0.0\n",
       "store_district_Vitacura                             7983        0      0.0\n",
       "store_district_Viña del Mar                         7983        0      0.0\n",
       "store_district_Lo Barnechea                         7983        0      0.0\n",
       "store_district_La Serena                            7983        0      0.0\n",
       "is_weighted                                         7983        0      0.0\n",
       "store_district_Chiguayante                          7983        0      0.0\n",
       "UN                                                  7983        0      0.0\n",
       "picking_speed                                       7983        0      0.0\n",
       "order_stores_distance                               7983        0      0.0\n",
       "seniority_ADVANCED                                  7983        0      0.0\n",
       "seniority_BEGINNER                                  7983        0      0.0\n",
       "seniority_INTERMEDIATE                              7983        0      0.0\n",
       "seniority_REVIEW                                    7983        0      0.0\n",
       "store_district_Cerrillos                            7983        0      0.0\n",
       "store_district_Colina                               7983        0      0.0\n",
       "store_district_La Reina                             7983        0      0.0\n",
       "store_district_Concepción                           7983        0      0.0\n",
       "store_district_Concón                               7983        0      0.0\n",
       "store_district_Coquimbo                             7983        0      0.0\n",
       "store_district_Estación Central                     7983        0      0.0\n",
       "store_district_Hualpén                              7983        0      0.0\n",
       "store_district_Huechuraba                           7983        0      0.0\n",
       "store_district_Independencia                        7983        0      0.0\n",
       "store_district_La Florida                           7983        0      0.0\n",
       "store_district_Ñuñoa                                7983        0      0.0"
      ]
     },
     "execution_count": 3,
     "metadata": {},
     "output_type": "execute_result"
    }
   ],
   "source": [
    "# you need to change it if you are going to run it on your local machine, writing the folder where the raw data of the challenge is\n",
    "os.chdir('/Users/iairlinker/Documents/repos/cornershop_test/data')\n",
    "# Loading pre-processed dataset\n",
    "model_data = pd.read_csv('interim/model_data.csv', sep=';')\n",
    "model_data['is_weighted'] = model_data.KG.apply(lambda x: 1 if x>0 else 0)\n",
    "model_data['on_demand'] = model_data.on_demand.apply(lambda x: 1 if x>0 else 0)\n",
    "col_names = ['on_demand', 'is_weighted','UN','picking_speed', \n",
    "             'seniority','order_stores_distance','store_district',\n",
    "             'total_minutes',\n",
    "            ]                    \n",
    "X = model_data[col_names]\n",
    "X.dropna(inplace=True)\n",
    "y = X.total_minutes\n",
    "X.drop('total_minutes', axis=1, inplace=True)\n",
    "X = pd.get_dummies(X)\n",
    "get_na(X)"
   ]
  },
  {
   "cell_type": "markdown",
   "id": "0e25a6e5-d6d8-4882-9ab3-0619ac5e5a45",
   "metadata": {},
   "source": [
    "# tune parameters\n",
    "\n",
    "<https://machinelearningmastery.com/tune-number-size-decision-trees-xgboost-python/>"
   ]
  },
  {
   "cell_type": "code",
   "execution_count": 9,
   "id": "0aa41ff1-743a-4156-8544-f9be990c776a",
   "metadata": {},
   "outputs": [
    {
     "name": "stdout",
     "output_type": "stream",
     "text": [
      "Fitting 10 folds for each of 36 candidates, totalling 360 fits\n"
     ]
    }
   ],
   "source": [
    "reg = XGBRegressor(\n",
    "    tree_method=\"hist\",\n",
    "    eval_metric=mean_absolute_error,\n",
    ")\n",
    "# grid search\n",
    "n_estimators = [50, 100, 150]\n",
    "max_depth = [2, 3, 4]\n",
    "learning_rate = [0.05,0.1,0.3,0.5]\n",
    "param_grid = dict(max_depth=max_depth, n_estimators=n_estimators, learning_rate= learning_rate)\n",
    "grid_search = GridSearchCV(reg, param_grid, scoring=\"neg_mean_absolute_error\", cv= 10, n_jobs=2, verbose=1)\n",
    "grid_result = grid_search.fit(X.values, y.values)"
   ]
  },
  {
   "cell_type": "code",
   "execution_count": 10,
   "id": "f3c32501-c667-4dc1-ab88-166f5e4a58cc",
   "metadata": {},
   "outputs": [
    {
     "name": "stdout",
     "output_type": "stream",
     "text": [
      "Best: -17.840829 using {'learning_rate': 0.3, 'max_depth': 2, 'n_estimators': 100}\n",
      "-19.891826 (0.572634) with: {'learning_rate': 0.05, 'max_depth': 2, 'n_estimators': 50}\n",
      "-18.837697 (0.484394) with: {'learning_rate': 0.05, 'max_depth': 2, 'n_estimators': 100}\n",
      "-18.416218 (0.470221) with: {'learning_rate': 0.05, 'max_depth': 2, 'n_estimators': 150}\n",
      "-19.020286 (0.597873) with: {'learning_rate': 0.05, 'max_depth': 3, 'n_estimators': 50}\n",
      "-18.343849 (0.517329) with: {'learning_rate': 0.05, 'max_depth': 3, 'n_estimators': 100}\n",
      "-18.117812 (0.501636) with: {'learning_rate': 0.05, 'max_depth': 3, 'n_estimators': 150}\n",
      "-18.586523 (0.578817) with: {'learning_rate': 0.05, 'max_depth': 4, 'n_estimators': 50}\n",
      "-18.115295 (0.497204) with: {'learning_rate': 0.05, 'max_depth': 4, 'n_estimators': 100}\n",
      "-17.984415 (0.484498) with: {'learning_rate': 0.05, 'max_depth': 4, 'n_estimators': 150}\n",
      "-18.817744 (0.480847) with: {'learning_rate': 0.1, 'max_depth': 2, 'n_estimators': 50}\n",
      "-18.186801 (0.453581) with: {'learning_rate': 0.1, 'max_depth': 2, 'n_estimators': 100}\n",
      "-17.964385 (0.449636) with: {'learning_rate': 0.1, 'max_depth': 2, 'n_estimators': 150}\n",
      "-18.354318 (0.506006) with: {'learning_rate': 0.1, 'max_depth': 3, 'n_estimators': 50}\n",
      "-17.987264 (0.490869) with: {'learning_rate': 0.1, 'max_depth': 3, 'n_estimators': 100}\n",
      "-17.890158 (0.473794) with: {'learning_rate': 0.1, 'max_depth': 3, 'n_estimators': 150}\n",
      "-18.140354 (0.517689) with: {'learning_rate': 0.1, 'max_depth': 4, 'n_estimators': 50}\n",
      "-17.940595 (0.483300) with: {'learning_rate': 0.1, 'max_depth': 4, 'n_estimators': 100}\n",
      "-17.928683 (0.458062) with: {'learning_rate': 0.1, 'max_depth': 4, 'n_estimators': 150}\n",
      "-18.016382 (0.487242) with: {'learning_rate': 0.3, 'max_depth': 2, 'n_estimators': 50}\n",
      "-17.840829 (0.442426) with: {'learning_rate': 0.3, 'max_depth': 2, 'n_estimators': 100}\n",
      "-17.844312 (0.450801) with: {'learning_rate': 0.3, 'max_depth': 2, 'n_estimators': 150}\n",
      "-17.978607 (0.469195) with: {'learning_rate': 0.3, 'max_depth': 3, 'n_estimators': 50}\n",
      "-17.966731 (0.430488) with: {'learning_rate': 0.3, 'max_depth': 3, 'n_estimators': 100}\n",
      "-18.037526 (0.394966) with: {'learning_rate': 0.3, 'max_depth': 3, 'n_estimators': 150}\n",
      "-18.053628 (0.453454) with: {'learning_rate': 0.3, 'max_depth': 4, 'n_estimators': 50}\n",
      "-18.173884 (0.476197) with: {'learning_rate': 0.3, 'max_depth': 4, 'n_estimators': 100}\n",
      "-18.320725 (0.490711) with: {'learning_rate': 0.3, 'max_depth': 4, 'n_estimators': 150}\n",
      "-17.967967 (0.492656) with: {'learning_rate': 0.5, 'max_depth': 2, 'n_estimators': 50}\n",
      "-17.987072 (0.469383) with: {'learning_rate': 0.5, 'max_depth': 2, 'n_estimators': 100}\n",
      "-17.991660 (0.432855) with: {'learning_rate': 0.5, 'max_depth': 2, 'n_estimators': 150}\n",
      "-18.159378 (0.455879) with: {'learning_rate': 0.5, 'max_depth': 3, 'n_estimators': 50}\n",
      "-18.201560 (0.449829) with: {'learning_rate': 0.5, 'max_depth': 3, 'n_estimators': 100}\n",
      "-18.338611 (0.443665) with: {'learning_rate': 0.5, 'max_depth': 3, 'n_estimators': 150}\n",
      "-18.357792 (0.480158) with: {'learning_rate': 0.5, 'max_depth': 4, 'n_estimators': 50}\n",
      "-18.741696 (0.476554) with: {'learning_rate': 0.5, 'max_depth': 4, 'n_estimators': 100}\n",
      "-19.077362 (0.449385) with: {'learning_rate': 0.5, 'max_depth': 4, 'n_estimators': 150}\n"
     ]
    }
   ],
   "source": [
    "# summarize results\n",
    "print(\"Best: %f using %s\" % (grid_result.best_score_, grid_result.best_params_))\n",
    "means = grid_result.cv_results_['mean_test_score']\n",
    "stds = grid_result.cv_results_['std_test_score']\n",
    "params = grid_result.cv_results_['params']\n",
    "for mean, stdev, param in zip(means, stds, params):\n",
    "\tprint(\"%f (%f) with: %r\" % (mean, stdev, param))"
   ]
  },
  {
   "cell_type": "code",
   "execution_count": 17,
   "id": "bbb24df6-f9f4-4f00-a9f8-0b075fb71c69",
   "metadata": {},
   "outputs": [
    {
     "name": "stdout",
     "output_type": "stream",
     "text": [
      "-17.840828768100224\n"
     ]
    },
    {
     "data": {
      "image/png": "[encoded data removed]",
      "text/plain": [
       "<Figure size 432x288 with 1 Axes>"
      ]
     },
     "metadata": {},
     "output_type": "display_data"
    }
   ],
   "source": [
    "# plot results\n",
    "print(max(means))\n",
    "scores = np.array(means).reshape(4, 9)\n",
    "for i, value in enumerate(learning_rate):\n",
    "    plt.plot( -scores[i], label='learning_rate: ' + str(value))\n",
    "plt.legend()\n",
    "plt.xlabel('iterations')\n",
    "plt.ylabel('median absolute error')\n",
    "plt.savefig('iterations vs median absolute error')"
   ]
  },
  {
   "cell_type": "code",
   "execution_count": 20,
   "id": "a1e11f09-f28c-4905-96d8-a9560f15f3c3",
   "metadata": {},
   "outputs": [
    {
     "name": "stdout",
     "output_type": "stream",
     "text": [
      "-17.840828768100224\n"
     ]
    },
    {
     "data": {
      "image/png": "[encoded data removed]",
      "text/plain": [
       "<Figure size 432x288 with 1 Axes>"
      ]
     },
     "metadata": {},
     "output_type": "display_data"
    }
   ],
   "source": [
    "# plot results\n",
    "print(max(means))\n",
    "scores = np.array(means).reshape(3, 12)\n",
    "for i, value in enumerate(n_estimators):\n",
    "    plt.plot( -scores[i], label='n estimators: ' + str(value))\n",
    "plt.legend()\n",
    "plt.xlabel('iterations')\n",
    "plt.ylabel('median absolute error')\n",
    "plt.savefig('iterations vs median absolute error')"
   ]
  },
  {
   "cell_type": "code",
   "execution_count": 21,
   "id": "cd68414d-ee60-4bf3-b6d9-ddec4009d6dd",
   "metadata": {},
   "outputs": [
    {
     "name": "stdout",
     "output_type": "stream",
     "text": [
      "-17.840828768100224\n"
     ]
    },
    {
     "data": {
      "image/png": "[encoded data removed]",
      "text/plain": [
       "<Figure size 432x288 with 1 Axes>"
      ]
     },
     "metadata": {},
     "output_type": "display_data"
    }
   ],
   "source": [
    "# plot results\n",
    "print(max(means))\n",
    "scores = np.array(means).reshape(3, 12)\n",
    "for i, value in enumerate(max_depth):\n",
    "    plt.plot( -scores[i], label='max depth: ' + str(value))\n",
    "plt.legend()\n",
    "plt.xlabel('iterations')\n",
    "plt.ylabel('median absolute error')\n",
    "plt.savefig('iterations vs median absolute error')"
   ]
  },
  {
   "cell_type": "code",
   "execution_count": 18,
   "id": "b7f39123-dcc6-430d-a22e-1a03c270ab76",
   "metadata": {},
   "outputs": [
    {
     "data": {
      "text/plain": [
       "{'tree_method': 'hist',\n",
       " 'eval_metric': <function sklearn.metrics._regression.mean_absolute_error(y_true, y_pred, *, sample_weight=None, multioutput='uniform_average')>,\n",
       " 'learning_rate': 0.3,\n",
       " 'max_depth': 2,\n",
       " 'n_estimators': 100}"
      ]
     },
     "execution_count": 18,
     "metadata": {},
     "output_type": "execute_result"
    }
   ],
   "source": [
    "params = {\n",
    "    'tree_method' : \"hist\",\n",
    "    'eval_metric' : mean_absolute_error\n",
    "}\n",
    "params.update(grid_result.best_params_)\n",
    "params"
   ]
  },
  {
   "cell_type": "code",
   "execution_count": 19,
   "id": "8db7f68d-6ac1-4c72-a1d0-3a3d404425d1",
   "metadata": {},
   "outputs": [
    {
     "data": {
      "text/plain": [
       "XGBRegressor(base_score=0.5, booster='gbtree', colsample_bylevel=1,\n",
       "             colsample_bynode=1, colsample_bytree=1, enable_categorical=False,\n",
       "             eval_metric=<function mean_absolute_error at 0x7fad46272c10>,\n",
       "             gamma=0, gpu_id=-1, importance_type=None,\n",
       "             interaction_constraints='', learning_rate=0.3, max_delta_step=0,\n",
       "             max_depth=2, min_child_weight=1, missing=nan,\n",
       "             monotone_constraints='()', n_estimators=100, n_jobs=8,\n",
       "             num_parallel_tree=1, predictor='auto', random_state=0, reg_alpha=0,\n",
       "             reg_lambda=1, scale_pos_weight=1, subsample=1, tree_method='hist',\n",
       "             validate_parameters=1, verbosity=None)"
      ]
     },
     "execution_count": 19,
     "metadata": {},
     "output_type": "execute_result"
    }
   ],
   "source": [
    "model = XGBRegressor(**params)\n",
    "model.fit(X,y)"
   ]
  }
 ],
 "metadata": {
  "kernelspec": {
   "display_name": "Python 3 (ipykernel)",
   "language": "python",
   "name": "python3"
  },
  "language_info": {
   "codemirror_mode": {
    "name": "ipython",
    "version": 3
   },
   "file_extension": ".py",
   "mimetype": "text/x-python",
   "name": "python",
   "nbconvert_exporter": "python",
   "pygments_lexer": "ipython3",
   "version": "3.8.12"
  }
 },
 "nbformat": 4,
 "nbformat_minor": 5
}
