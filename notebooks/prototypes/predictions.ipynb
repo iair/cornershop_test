{
 "cells": [
  {
   "cell_type": "markdown",
   "id": "73e12417-11eb-49c4-8b77-ac250b92059f",
   "metadata": {
    "tags": []
   },
   "source": [
    "### Declare libraries"
   ]
  },
  {
   "cell_type": "code",
   "execution_count": 1,
   "id": "12907040-50b8-492f-b2a7-3e326e417d32",
   "metadata": {},
   "outputs": [],
   "source": [
    "import warnings\n",
    "warnings.filterwarnings('ignore')\n",
    "# evaluate an xgboost regression model on the housing dataset\n",
    "import numpy as np\n",
    "import pandas as pd\n",
    "# libraries for visualization\n",
    "import matplotlib.pyplot as plt\n",
    "%matplotlib inline\n",
    "import seaborn as sns\n",
    "sns.set_theme(style=\"white\")\n",
    "import os\n",
    "# library to save the money\n",
    "import pickle"
   ]
  },
  {
   "cell_type": "markdown",
   "id": "9fd07ac4-a6bf-4854-b4f6-387a02556cc0",
   "metadata": {
    "tags": []
   },
   "source": [
    "### Set folder location of the data and load data "
   ]
  },
  {
   "cell_type": "markdown",
   "id": "3562fd60-6ea1-4214-8625-10423cdcc30b",
   "metadata": {
    "tags": []
   },
   "source": [
    "### Declare functions and select the variables that i am going to use"
   ]
  },
  {
   "cell_type": "code",
   "execution_count": 2,
   "id": "c012d5f3-27d0-4aec-868d-7145f17f0873",
   "metadata": {},
   "outputs": [],
   "source": [
    "# función creada por mi para traer los NA's\n",
    "def get_na(df):\n",
    "    qsna=df.shape[0]-df.isnull().sum(axis=0)\n",
    "    qna=df.isnull().sum(axis=0)\n",
    "    ppna=round(100*(df.isnull().sum(axis=0)/df.shape[0]),2)\n",
    "    aux= {'datos sin NAs en q': qsna, 'Na en q': qna ,'Na en %': ppna}\n",
    "    na=pd.DataFrame(data=aux)\n",
    "    return na.sort_values(by='Na en %',ascending=False)"
   ]
  },
  {
   "cell_type": "code",
   "execution_count": 3,
   "id": "af03fb8e-e47d-4e06-b2b8-60b7cf7470a0",
   "metadata": {},
   "outputs": [
    {
     "data": {
      "text/html": [
       "<div>\n",
       "<style scoped>\n",
       "    .dataframe tbody tr th:only-of-type {\n",
       "        vertical-align: middle;\n",
       "    }\n",
       "\n",
       "    .dataframe tbody tr th {\n",
       "        vertical-align: top;\n",
       "    }\n",
       "\n",
       "    .dataframe thead th {\n",
       "        text-align: right;\n",
       "    }\n",
       "</style>\n",
       "<table border=\"1\" class=\"dataframe\">\n",
       "  <thead>\n",
       "    <tr style=\"text-align: right;\">\n",
       "      <th></th>\n",
       "      <th>datos sin NAs en q</th>\n",
       "      <th>Na en q</th>\n",
       "      <th>Na en %</th>\n",
       "    </tr>\n",
       "  </thead>\n",
       "  <tbody>\n",
       "    <tr>\n",
       "      <th>UN</th>\n",
       "      <td>1995</td>\n",
       "      <td>5</td>\n",
       "      <td>0.25</td>\n",
       "    </tr>\n",
       "    <tr>\n",
       "      <th>on_demand</th>\n",
       "      <td>2000</td>\n",
       "      <td>0</td>\n",
       "      <td>0.00</td>\n",
       "    </tr>\n",
       "    <tr>\n",
       "      <th>is_weighted</th>\n",
       "      <td>2000</td>\n",
       "      <td>0</td>\n",
       "      <td>0.00</td>\n",
       "    </tr>\n",
       "    <tr>\n",
       "      <th>picking_speed</th>\n",
       "      <td>2000</td>\n",
       "      <td>0</td>\n",
       "      <td>0.00</td>\n",
       "    </tr>\n",
       "    <tr>\n",
       "      <th>order_stores_distance</th>\n",
       "      <td>2000</td>\n",
       "      <td>0</td>\n",
       "      <td>0.00</td>\n",
       "    </tr>\n",
       "    <tr>\n",
       "      <th>seniority_ADVANCED</th>\n",
       "      <td>2000</td>\n",
       "      <td>0</td>\n",
       "      <td>0.00</td>\n",
       "    </tr>\n",
       "    <tr>\n",
       "      <th>seniority_BEGINNER</th>\n",
       "      <td>2000</td>\n",
       "      <td>0</td>\n",
       "      <td>0.00</td>\n",
       "    </tr>\n",
       "    <tr>\n",
       "      <th>seniority_INTERMEDIATE</th>\n",
       "      <td>2000</td>\n",
       "      <td>0</td>\n",
       "      <td>0.00</td>\n",
       "    </tr>\n",
       "    <tr>\n",
       "      <th>seniority_REVIEW</th>\n",
       "      <td>2000</td>\n",
       "      <td>0</td>\n",
       "      <td>0.00</td>\n",
       "    </tr>\n",
       "  </tbody>\n",
       "</table>\n",
       "</div>"
      ],
      "text/plain": [
       "                        datos sin NAs en q  Na en q  Na en %\n",
       "UN                                    1995        5     0.25\n",
       "on_demand                             2000        0     0.00\n",
       "is_weighted                           2000        0     0.00\n",
       "picking_speed                         2000        0     0.00\n",
       "order_stores_distance                 2000        0     0.00\n",
       "seniority_ADVANCED                    2000        0     0.00\n",
       "seniority_BEGINNER                    2000        0     0.00\n",
       "seniority_INTERMEDIATE                2000        0     0.00\n",
       "seniority_REVIEW                      2000        0     0.00"
      ]
     },
     "execution_count": 3,
     "metadata": {},
     "output_type": "execute_result"
    }
   ],
   "source": [
    "# you need to change it if you are going to run it on your local machine, writing the folder where the raw data of the challenge is\n",
    "os.chdir('/Users/iairlinker/Documents/repos/cornershop_test/data')\n",
    "# Loading pre-processed dataset\n",
    "model_data = pd.read_csv('interim/results.csv', sep=';')\n",
    "model_data['is_weighted'] = model_data.KG.apply(lambda x: 1 if x>0 else 0)\n",
    "model_data['on_demand'] = model_data.on_demand.apply(lambda x: 1 if x>0 else 0)\n",
    "col_names = ['on_demand', 'is_weighted','UN','picking_speed', \n",
    "             'seniority','order_stores_distance',\n",
    "             'total_minutes',\n",
    "            ]                    \n",
    "X = model_data[col_names]\n",
    "y = X.total_minutes\n",
    "X.drop('total_minutes', axis=1, inplace=True)\n",
    "X = pd.get_dummies(X)\n",
    "get_na(X)"
   ]
  },
  {
   "cell_type": "code",
   "execution_count": 9,
   "id": "0aa41ff1-743a-4156-8544-f9be990c776a",
   "metadata": {},
   "outputs": [],
   "source": [
    "file_name = \"processed/xgb_reg.pkl\"\n",
    "# load the model\n",
    "model_loaded = pickle.load(open(file_name, \"rb\"))\n",
    "# predict\n",
    "model_data['total_minutes'] = model_loaded.predict(X)\n",
    "# save the file\n",
    "model_data[['order_id','total_minutes']].to_csv('processed/predictions.csv', sep=',',index=False)"
   ]
  }
 ],
 "metadata": {
  "kernelspec": {
   "display_name": "Python 3 (ipykernel)",
   "language": "python",
   "name": "python3"
  },
  "language_info": {
   "codemirror_mode": {
    "name": "ipython",
    "version": 3
   },
   "file_extension": ".py",
   "mimetype": "text/x-python",
   "name": "python",
   "nbconvert_exporter": "python",
   "pygments_lexer": "ipython3",
   "version": "3.8.12"
  }
 },
 "nbformat": 4,
 "nbformat_minor": 5
}
